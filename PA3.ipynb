{
 "cells": [
  {
   "cell_type": "code",
   "execution_count": 4,
   "id": "3695f09a",
   "metadata": {},
   "outputs": [
    {
     "name": "stdout",
     "output_type": "stream",
     "text": [
      "Please Enter the First side of a Triangle: 3\n",
      "Please Enter the Second side of a Triangle: 8\n",
      "Please Enter the Third side of a Triangle: 6\n",
      "The perimeter of the triangle is 17.0\n",
      "The area of the triangle is 7.644442425710328\n"
     ]
    }
   ],
   "source": [
    "a = float(input('Please Enter the First side of a Triangle: '))\n",
    "b = float(input('Please Enter the Second side of a Triangle: '))\n",
    "c = float(input('Please Enter the Third side of a Triangle: '))\n",
    "perimeter=a+b+c\n",
    "s=(a+b+c)/2\n",
    "area=(s*(s-a)*(s-b)*(s-c))**0.5\n",
    "print(\"The perimeter of the triangle is\", perimeter)\n",
    "print(\"The area of the triangle is\", area)"
   ]
  },
  {
   "cell_type": "code",
   "execution_count": 8,
   "id": "a3ff52ba",
   "metadata": {},
   "outputs": [
    {
     "name": "stdout",
     "output_type": "stream",
     "text": [
      "Enter any number 1-1000: 50\n",
      "Oops, too low!Try Again!\n",
      "Enter any number 1-1000: 900\n",
      "Too high. Guess again!\n",
      "Enter any number 1-1000: 500\n",
      "Oops, too low!Try Again!\n",
      "Enter any number 1-1000: 600\n",
      "Oops, too low!Try Again!\n",
      "Enter any number 1-1000: 700\n",
      "Oops, too low!Try Again!\n",
      "Enter any number 1-1000: 750\n",
      "Oops, too low!Try Again!\n",
      "Enter any number 1-1000: 800\n",
      "Oops, too low!Try Again!\n",
      "Enter any number 1-1000: 840\n",
      "Too high. Guess again!\n",
      "Enter any number 1-1000: 830\n",
      "Too high. Guess again!\n",
      "Enter any number 1-1000: 815\n",
      "Oops, too low!Try Again!\n",
      "Enter any number 1-1000: 820\n",
      "Too high. Guess again!\n",
      "Enter any number 1-1000: 816\n",
      "Oops, too low!Try Again!\n",
      "Enter any number 1-1000: 817\n",
      "Oops, too low!Try Again!\n",
      "Enter any number 1-1000: 818\n",
      "You Won! You took 13 trials\n"
     ]
    }
   ],
   "source": [
    "import random\n",
    "number=random.randint(1,1001)\n",
    "guess_number=None\n",
    "time=0\n",
    "while guess_number!=number:\n",
    "    guess_number=int(input(\"Enter any number 1-1000: \"))\n",
    "    if guess_number==number:\n",
    "        print(f\"You Won! You took {time} trials\")\n",
    "        break\n",
    "    elif guess_number>number:\n",
    "        print(f\"Too high. Guess again!\")\n",
    "    else:\n",
    "        print(\"Oops, too low!Try Again!\")\n",
    "    time+=1"
   ]
  },
  {
   "cell_type": "code",
   "execution_count": 4,
   "id": "78e5befb",
   "metadata": {},
   "outputs": [
    {
     "name": "stdout",
     "output_type": "stream",
     "text": [
      "The average temperature is <function meanTemps at 0x000001DFC322F3A0>\n"
     ]
    }
   ],
   "source": [
    "def meanTemps(*temps):\n",
    "    return sum(temps)/len(temps)\n",
    "meanTemps(60,68,74,71,63,69)\n",
    "print(\"The average temperature is\", meanTemps)"
   ]
  },
  {
   "cell_type": "markdown",
   "id": "0f2b72ad",
   "metadata": {},
   "source": [
    "## Programming Assignment 2, Version 1\n",
    "### Trevor McCormick\n",
    "#### Fall 2021"
   ]
  },
  {
   "cell_type": "code",
   "execution_count": null,
   "id": "eaff9511",
   "metadata": {},
   "outputs": [],
   "source": []
  }
 ],
 "metadata": {
  "kernelspec": {
   "display_name": "Python 3",
   "language": "python",
   "name": "python3"
  },
  "language_info": {
   "codemirror_mode": {
    "name": "ipython",
    "version": 3
   },
   "file_extension": ".py",
   "mimetype": "text/x-python",
   "name": "python",
   "nbconvert_exporter": "python",
   "pygments_lexer": "ipython3",
   "version": "3.8.8"
  }
 },
 "nbformat": 4,
 "nbformat_minor": 5
}
